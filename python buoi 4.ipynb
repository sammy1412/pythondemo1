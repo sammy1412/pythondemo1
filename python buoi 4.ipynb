{
 "cells": [
  {
   "cell_type": "code",
   "execution_count": 1,
   "id": "4473d2c2",
   "metadata": {},
   "outputs": [
    {
     "name": "stdout",
     "output_type": "stream",
     "text": [
      "10\n"
     ]
    }
   ],
   "source": [
    "number = 10\n",
    "print(number)"
   ]
  },
  {
   "cell_type": "code",
   "execution_count": 2,
   "id": "ba333985",
   "metadata": {},
   "outputs": [
    {
     "name": "stdout",
     "output_type": "stream",
     "text": [
      "3181302776336\n"
     ]
    }
   ],
   "source": [
    "print(id(number))"
   ]
  },
  {
   "cell_type": "code",
   "execution_count": 3,
   "id": "615b6aa6",
   "metadata": {},
   "outputs": [
    {
     "name": "stdout",
     "output_type": "stream",
     "text": [
      "3181302776048\n"
     ]
    }
   ],
   "source": [
    "number2 =1\n",
    "print(id(number2))"
   ]
  },
  {
   "cell_type": "code",
   "execution_count": 4,
   "id": "67b7fd63",
   "metadata": {},
   "outputs": [
    {
     "name": "stdout",
     "output_type": "stream",
     "text": [
      "90\n"
     ]
    }
   ],
   "source": [
    "number = 90\n",
    "print(number)"
   ]
  },
  {
   "cell_type": "code",
   "execution_count": 5,
   "id": "f91c4381",
   "metadata": {},
   "outputs": [
    {
     "name": "stdout",
     "output_type": "stream",
     "text": [
      "3181302778896\n"
     ]
    }
   ],
   "source": [
    "print(id(number))"
   ]
  },
  {
   "cell_type": "code",
   "execution_count": 7,
   "id": "e607eaaf",
   "metadata": {},
   "outputs": [
    {
     "name": "stdout",
     "output_type": "stream",
     "text": [
      "55\n",
      "3181302777776\n"
     ]
    }
   ],
   "source": [
    "number = 10+45\n",
    "print(number)\n",
    "print(id(number))"
   ]
  },
  {
   "cell_type": "code",
   "execution_count": 11,
   "id": "e7ef66a7",
   "metadata": {},
   "outputs": [
    {
     "name": "stdout",
     "output_type": "stream",
     "text": [
      "30\n",
      "<class 'int'>\n"
     ]
    }
   ],
   "source": [
    "age = 30 \n",
    "print(age)\n",
    "print(type(age))"
   ]
  },
  {
   "cell_type": "code",
   "execution_count": 10,
   "id": "efad2fca",
   "metadata": {},
   "outputs": [
    {
     "name": "stdout",
     "output_type": "stream",
     "text": [
      "3.5\n",
      "<class 'float'>\n"
     ]
    }
   ],
   "source": [
    "salary = 3.5\n",
    "print(salary)\n",
    "print(type(salary))"
   ]
  },
  {
   "cell_type": "code",
   "execution_count": 12,
   "id": "6af77dc6",
   "metadata": {},
   "outputs": [
    {
     "name": "stdout",
     "output_type": "stream",
     "text": [
      "Bui Diem Quynh Anh\n",
      "<class 'str'>\n"
     ]
    }
   ],
   "source": [
    "name = 'Bui Diem Quynh Anh'\n",
    "print(name)\n",
    "print(type(name))"
   ]
  },
  {
   "cell_type": "code",
   "execution_count": 16,
   "id": "9128ad37",
   "metadata": {
    "scrolled": true
   },
   "outputs": [
    {
     "name": "stdout",
     "output_type": "stream",
     "text": [
      "True\n",
      "<class 'bool'>\n"
     ]
    }
   ],
   "source": [
    "male =True\n",
    "print(male)\n",
    "print(type(male))\n"
   ]
  },
  {
   "cell_type": "code",
   "execution_count": 17,
   "id": "81b8c26b",
   "metadata": {},
   "outputs": [
    {
     "name": "stdout",
     "output_type": "stream",
     "text": [
      "python\n"
     ]
    }
   ],
   "source": [
    "_name='python'\n",
    "print(_name)"
   ]
  },
  {
   "cell_type": "code",
   "execution_count": 18,
   "id": "f35943f8",
   "metadata": {},
   "outputs": [
    {
     "ename": "SyntaxError",
     "evalue": "cannot assign to expression here. Maybe you meant '==' instead of '='? (3469763342.py, line 1)",
     "output_type": "error",
     "traceback": [
      "\u001b[1;36m  Cell \u001b[1;32mIn[18], line 1\u001b[1;36m\u001b[0m\n\u001b[1;33m    first-name = 'John'\u001b[0m\n\u001b[1;37m    ^\u001b[0m\n\u001b[1;31mSyntaxError\u001b[0m\u001b[1;31m:\u001b[0m cannot assign to expression here. Maybe you meant '==' instead of '='?\n"
     ]
    }
   ],
   "source": [
    "first-name = 'John'\n",
    "print(first-name)"
   ]
  },
  {
   "cell_type": "code",
   "execution_count": 19,
   "id": "67647fb4",
   "metadata": {},
   "outputs": [
    {
     "ename": "SyntaxError",
     "evalue": "invalid syntax (3888523867.py, line 1)",
     "output_type": "error",
     "traceback": [
      "\u001b[1;36m  Cell \u001b[1;32mIn[19], line 1\u001b[1;36m\u001b[0m\n\u001b[1;33m    first name = 'John'\u001b[0m\n\u001b[1;37m          ^\u001b[0m\n\u001b[1;31mSyntaxError\u001b[0m\u001b[1;31m:\u001b[0m invalid syntax\n"
     ]
    }
   ],
   "source": [
    "first name = 'John'\n",
    "print(first-name)"
   ]
  },
  {
   "cell_type": "code",
   "execution_count": 20,
   "id": "bf14483d",
   "metadata": {},
   "outputs": [
    {
     "ename": "SyntaxError",
     "evalue": "invalid syntax (1954404398.py, line 1)",
     "output_type": "error",
     "traceback": [
      "\u001b[1;36m  Cell \u001b[1;32mIn[20], line 1\u001b[1;36m\u001b[0m\n\u001b[1;33m    name!^&&^%$ =\"python\"\u001b[0m\n\u001b[1;37m        ^\u001b[0m\n\u001b[1;31mSyntaxError\u001b[0m\u001b[1;31m:\u001b[0m invalid syntax\n"
     ]
    }
   ],
   "source": [
    "name!^&&^%$ =\"python\"\n",
    "print(name!^&&^%$)"
   ]
  },
  {
   "cell_type": "code",
   "execution_count": 30,
   "id": "140257dc",
   "metadata": {},
   "outputs": [
    {
     "name": "stdout",
     "output_type": "stream",
     "text": [
      "Employee List\n"
     ]
    }
   ],
   "source": [
    "employee_list_2023 =\"Employee List\"\n",
    "print(employee_list_2023)"
   ]
  },
  {
   "cell_type": "code",
   "execution_count": 33,
   "id": "7b6048ac",
   "metadata": {},
   "outputs": [
    {
     "name": "stdout",
     "output_type": "stream",
     "text": [
      "Pytho\n"
     ]
    }
   ],
   "source": [
    "course =\"Pytho\"\n",
    "print(course)"
   ]
  },
  {
   "cell_type": "code",
   "execution_count": 34,
   "id": "45d884b8",
   "metadata": {},
   "outputs": [
    {
     "name": "stdout",
     "output_type": "stream",
     "text": [
      "Python\n"
     ]
    }
   ],
   "source": [
    "print(Course)"
   ]
  },
  {
   "cell_type": "code",
   "execution_count": null,
   "id": "4d6ba24c",
   "metadata": {},
   "outputs": [],
   "source": [
    "student_name = \"nguyen van a\"\n",
    "gender = True\n",
    "total_income = 45\n",
    "student_list = 54\n",
    "math_Student_list_number = 30\n"
   ]
  },
  {
   "cell_type": "code",
   "execution_count": 36,
   "id": "53d0074b",
   "metadata": {},
   "outputs": [
    {
     "name": "stdout",
     "output_type": "stream",
     "text": [
      "python programming 2023\n"
     ]
    }
   ],
   "source": [
    "course = 'python programming'\n",
    "year = \"2023\"\n",
    "course_name = course + \" \" + year\n",
    "print(course_name)"
   ]
  },
  {
   "cell_type": "markdown",
   "id": "7c9fab98",
   "metadata": {},
   "source": [
    "## toan tu toan hoc"
   ]
  },
  {
   "cell_type": "markdown",
   "id": "92299ad4",
   "metadata": {},
   "source": [
    "+ cong\n",
    "- tru\n",
    "* nhan\n",
    "/ chia\n",
    "% chia lay phan du (modulus)\n",
    "// lay so du phep chia\n",
    "** luy thua"
   ]
  },
  {
   "cell_type": "code",
   "execution_count": 37,
   "id": "c06d0590",
   "metadata": {},
   "outputs": [
    {
     "name": "stdout",
     "output_type": "stream",
     "text": [
      "14\n",
      "6\n",
      "40\n",
      "2.5\n"
     ]
    }
   ],
   "source": [
    "first_num = 10\n",
    "second_num = 4\n",
    "print(first_num + second_num)\n",
    "print(first_num - second_num)\n",
    "print(first_num * second_num)\n",
    "print(first_num / second_num)"
   ]
  },
  {
   "cell_type": "code",
   "execution_count": 40,
   "id": "1361f23f",
   "metadata": {},
   "outputs": [
    {
     "name": "stdout",
     "output_type": "stream",
     "text": [
      "2\n",
      "2\n",
      "10000\n"
     ]
    }
   ],
   "source": [
    "print(first_num % second_num)\n",
    "print(first_num // second_num)\n",
    "print(first_num ** second_num)"
   ]
  },
  {
   "cell_type": "code",
   "execution_count": 41,
   "id": "ed695e5d",
   "metadata": {},
   "outputs": [
    {
     "name": "stdout",
     "output_type": "stream",
     "text": [
      "hello worldhello worldhello worldhello worldhello world\n"
     ]
    }
   ],
   "source": [
    "print('hello world'*5)"
   ]
  },
  {
   "cell_type": "code",
   "execution_count": 42,
   "id": "6643d07e",
   "metadata": {},
   "outputs": [
    {
     "name": "stdout",
     "output_type": "stream",
     "text": [
      "****************************************************************************************************\n"
     ]
    }
   ],
   "source": [
    "print('*'*100)"
   ]
  },
  {
   "cell_type": "markdown",
   "id": "a6c81aef",
   "metadata": {},
   "source": [
    "## toan tu gan assignment"
   ]
  },
  {
   "cell_type": "markdown",
   "id": "a4b5bfc0",
   "metadata": {},
   "source": [
    "=    x=y    x=y\n",
    "+=   x+=y   x=x+y\n",
    "-=   x-=y   x=x-y\n",
    "*=   x*=y   x=x*y\n",
    "/=   x/=y   x=x/y\n",
    "%=   x%=y   x=x%y"
   ]
  },
  {
   "cell_type": "code",
   "execution_count": 43,
   "id": "79f33e2e",
   "metadata": {},
   "outputs": [
    {
     "name": "stdout",
     "output_type": "stream",
     "text": [
      "13\n"
     ]
    }
   ],
   "source": [
    "number1 = 10\n",
    "number2 = 3\n",
    "number1 += number2 \n",
    "\n",
    "print(number1)"
   ]
  },
  {
   "cell_type": "code",
   "execution_count": 44,
   "id": "1a952ff3",
   "metadata": {},
   "outputs": [
    {
     "name": "stdout",
     "output_type": "stream",
     "text": [
      "10\n"
     ]
    }
   ],
   "source": [
    "number1 -= number2\n",
    "print(number1)"
   ]
  },
  {
   "cell_type": "code",
   "execution_count": 46,
   "id": "86837615",
   "metadata": {},
   "outputs": [
    {
     "name": "stdout",
     "output_type": "stream",
     "text": [
      "1.1111111111111112\n"
     ]
    }
   ],
   "source": [
    "number1 /= number2\n",
    "print(number1)"
   ]
  },
  {
   "cell_type": "code",
   "execution_count": 47,
   "id": "5348e28e",
   "metadata": {},
   "outputs": [
    {
     "name": "stdout",
     "output_type": "stream",
     "text": [
      "3.3333333333333335\n"
     ]
    }
   ],
   "source": [
    "number1*= number2\n",
    "print(number1)"
   ]
  },
  {
   "cell_type": "markdown",
   "id": "f9002fcc",
   "metadata": {},
   "source": [
    "## toan tu so sanh"
   ]
  },
  {
   "cell_type": "markdown",
   "id": "30df5e0c",
   "metadata": {},
   "source": [
    "== a==b  #false\n",
    "!= a!=b #true\n",
    "< > <= >="
   ]
  },
  {
   "cell_type": "code",
   "execution_count": 48,
   "id": "b7057f4a",
   "metadata": {},
   "outputs": [
    {
     "name": "stdout",
     "output_type": "stream",
     "text": [
      "False\n",
      "True\n",
      "True\n",
      "False\n"
     ]
    }
   ],
   "source": [
    "number1 = 10\n",
    "number2 = 3\n",
    "print(number1 == number2)\n",
    "print(number!= number2)\n",
    "print(number>= number2)\n",
    "print(number<= number2)\n"
   ]
  },
  {
   "cell_type": "markdown",
   "id": "0e265b75",
   "metadata": {},
   "source": [
    "## toan tu logic"
   ]
  },
  {
   "cell_type": "markdown",
   "id": "f225cb6e",
   "metadata": {},
   "source": [
    "and \n",
    "or\n",
    "not"
   ]
  },
  {
   "cell_type": "code",
   "execution_count": 50,
   "id": "55145dbc",
   "metadata": {},
   "outputs": [
    {
     "name": "stdout",
     "output_type": "stream",
     "text": [
      "True\n"
     ]
    }
   ],
   "source": [
    "day =\"sunday\"\n",
    "weather = \"sunny\"\n",
    "friends = \"free\"\n",
    "decision = day == \"sunday\" and weather ==\"sunny\" and friends ==\"free\"\n",
    "print(decision)"
   ]
  },
  {
   "cell_type": "code",
   "execution_count": 51,
   "id": "9df9dd20",
   "metadata": {},
   "outputs": [
    {
     "name": "stdout",
     "output_type": "stream",
     "text": [
      "True\n"
     ]
    }
   ],
   "source": [
    "meal = \"chicken\"\n",
    "answer = meal == \"chicken\" or meal == \"fish\"\n",
    "print(answer)"
   ]
  },
  {
   "cell_type": "code",
   "execution_count": 52,
   "id": "704adef4",
   "metadata": {},
   "outputs": [
    {
     "name": "stdout",
     "output_type": "stream",
     "text": [
      "False\n"
     ]
    }
   ],
   "source": [
    "print (not answer)"
   ]
  },
  {
   "cell_type": "code",
   "execution_count": 53,
   "id": "43101c44",
   "metadata": {},
   "outputs": [
    {
     "name": "stdout",
     "output_type": "stream",
     "text": [
      "False\n"
     ]
    }
   ],
   "source": [
    "answer = not (meal == \"chicken\" or meal == \"fish\")\n",
    "print(answer)"
   ]
  },
  {
   "cell_type": "code",
   "execution_count": 61,
   "id": "08e748f1",
   "metadata": {},
   "outputs": [
    {
     "name": "stdout",
     "output_type": "stream",
     "text": [
      "True\n"
     ]
    }
   ],
   "source": [
    "a= 10\n",
    "b=11\n",
    "c=7\n",
    "answer = a+b>c and a+c>b and b+c>a\n",
    "print(answer)"
   ]
  },
  {
   "cell_type": "markdown",
   "id": "e4c36c4b",
   "metadata": {},
   "source": [
    "## kiem tra la tam giac thuong hay vuong hay can "
   ]
  },
  {
   "cell_type": "code",
   "execution_count": 11,
   "id": "2d8ed039",
   "metadata": {},
   "outputs": [
    {
     "name": "stdout",
     "output_type": "stream",
     "text": [
      "6\n",
      "6\n",
      "9\n",
      "day la tam giac can\n"
     ]
    }
   ],
   "source": [
    "a = int(input())\n",
    "b = int(input())\n",
    "c = int(input())\n",
    "if a+b>c and a+c>b and b+c>a:\n",
    "    if a==b and b==c and c==a:\n",
    "        print('day la tam giac deu')\n",
    "    elif a==b or b==c or a==c :\n",
    "        print('day la tam giac can')\n",
    "    elif a*a==b*b+c*c or b*b==a*a+c*c or c*c==b*b+a*a:\n",
    "        print('day la tam giac vuong')\n",
    "    else: \n",
    "        print('day la tam giac binh thuong')\n",
    "else:\n",
    "    print('day khong phai tam giac')"
   ]
  },
  {
   "cell_type": "code",
   "execution_count": 11,
   "id": "b81f6e6e",
   "metadata": {},
   "outputs": [
    {
     "name": "stdout",
     "output_type": "stream",
     "text": [
      "co phai la tam giac True\n"
     ]
    }
   ],
   "source": [
    "a=4\n",
    "b=4\n",
    "c=6\n",
    "tg= a+b>c and a+c>b and b+c>a\n",
    "print(\"co phai la tam giac\", tg)"
   ]
  },
  {
   "cell_type": "code",
   "execution_count": 12,
   "id": "1c06a9fb",
   "metadata": {},
   "outputs": [
    {
     "name": "stdout",
     "output_type": "stream",
     "text": [
      "tam giac deu False\n"
     ]
    }
   ],
   "source": [
    "tg_deu = a==b and b==c\n",
    "print('tam giac deu',tg_deu)"
   ]
  },
  {
   "cell_type": "code",
   "execution_count": 13,
   "id": "685bfe20",
   "metadata": {},
   "outputs": [
    {
     "name": "stdout",
     "output_type": "stream",
     "text": [
      "tam giac can True\n"
     ]
    }
   ],
   "source": [
    "tg_can = ((a==b and b!=c) or (b==c and c!=a) or (a==c and c!=b) and tg)\n",
    "print('tam giac can', tg_can)"
   ]
  },
  {
   "cell_type": "code",
   "execution_count": 14,
   "id": "bfb5deee",
   "metadata": {},
   "outputs": [
    {
     "name": "stdout",
     "output_type": "stream",
     "text": [
      "tam giac vuong False\n"
     ]
    }
   ],
   "source": [
    "tg_vuong = tg and (a*a==b*b+c*c or b*b==a*a+c*c or c*c==b*b+a*a)\n",
    "print('tam giac vuong', tg_vuong)"
   ]
  },
  {
   "cell_type": "code",
   "execution_count": 15,
   "id": "4b72ce9f",
   "metadata": {},
   "outputs": [
    {
     "name": "stdout",
     "output_type": "stream",
     "text": [
      "tam giac thuong False\n"
     ]
    }
   ],
   "source": [
    "tg_thuong = tg and not tg_deu and not tg_can and not tg_vuong\n",
    "print('tam giac thuong', tg_thuong)"
   ]
  },
  {
   "cell_type": "code",
   "execution_count": 16,
   "id": "6099df1c",
   "metadata": {},
   "outputs": [
    {
     "name": "stdout",
     "output_type": "stream",
     "text": [
      "0.75\n"
     ]
    }
   ],
   "source": [
    "cosA = (b**2 + c**2 - a**2) /(2*b*c)\n",
    "print(cosA)"
   ]
  },
  {
   "cell_type": "code",
   "execution_count": 17,
   "id": "77edef85",
   "metadata": {},
   "outputs": [
    {
     "name": "stdout",
     "output_type": "stream",
     "text": [
      "0.7227342478134157\n"
     ]
    }
   ],
   "source": [
    "import math\n",
    "gocA =  math.acos(cosA)\n",
    "print(gocA)"
   ]
  },
  {
   "cell_type": "markdown",
   "id": "099bb289",
   "metadata": {},
   "source": [
    "x=111\n",
    "y=87\n",
    "z=56\n",
    "a=3\n",
    "\n",
    "s_hinhhopchunhat =  (x + y) * 2 * z + 2 * x * y\n",
    "s_hinhlapphuong = a**2 *6\n",
    "sl = s_hinhhopchunhat / s_hinhlapphuong\n",
    "print('so hop dung duoc la', sl)"
   ]
  },
  {
   "cell_type": "code",
   "execution_count": 25,
   "id": "d471367e",
   "metadata": {},
   "outputs": [
    {
     "name": "stdout",
     "output_type": "stream",
     "text": [
      "so hop dung duoc la 20029.333333333332\n"
     ]
    }
   ],
   "source": [
    "x=111\n",
    "y=87\n",
    "z=56\n",
    "a=3\n",
    "\n",
    "v_hinhhopchunhat =  x*y*z\n",
    "v_hinhlapphuong = a*a*a\n",
    "sl = v_hinhhopchunhat / v_hinhlapphuong\n",
    "print('so hop dung duoc la', sl)"
   ]
  },
  {
   "cell_type": "code",
   "execution_count": 30,
   "id": "ffb10296",
   "metadata": {},
   "outputs": [
    {
     "name": "stdout",
     "output_type": "stream",
     "text": [
      "so hop dung duoc la 19314\n"
     ]
    }
   ],
   "source": [
    "x=111\n",
    "y=87\n",
    "z=56\n",
    "a=3\n",
    "\n",
    "chieudai= x//a\n",
    "chieurong = y//a\n",
    "chieucao = z//a\n",
    "kq= (chieudai *chieurong*chieucao)\n",
    "print('so hop dung duoc la', kq)"
   ]
  },
  {
   "cell_type": "code",
   "execution_count": 34,
   "id": "8181c8a0",
   "metadata": {},
   "outputs": [
    {
     "name": "stdout",
     "output_type": "stream",
     "text": [
      "157.0 1962.5 5024.0 8949.0 62800.0\n"
     ]
    }
   ],
   "source": [
    "r=25\n",
    "h=32 \n",
    "\n",
    "chuviday= r*2*3.14\n",
    "dientichday= r**2 *3.14\n",
    "dientichxungquanh= h*chuviday\n",
    "dientichtoanphan = dientichxungquanh + dientichday *2 \n",
    "thetich= dientichday * h\n",
    "\n",
    "print(chuviday, dientichday, dientichxungquanh, dientichtoanphan, thetich)"
   ]
  },
  {
   "cell_type": "code",
   "execution_count": 38,
   "id": "b40f407b",
   "metadata": {},
   "outputs": [
    {
     "name": "stdout",
     "output_type": "stream",
     "text": [
      "tong tien phai tra 126200\n"
     ]
    }
   ],
   "source": [
    "phithuebao = 25000\n",
    "sudung = 256\n",
    "muc1 = 600\n",
    "tg1 = 50\n",
    "muc2= 400\n",
    "tg2 = 150\n",
    "muc3 = (sudung - tg1 -tg2) * 200\n",
    "tongtien = phithuebao + muc1* tg1 + muc2*tg2 +muc3\n",
    "print('tong tien phai tra', tongtien)"
   ]
  },
  {
   "cell_type": "code",
   "execution_count": 44,
   "id": "c049a6e8",
   "metadata": {},
   "outputs": [
    {
     "name": "stdout",
     "output_type": "stream",
     "text": [
      "1\n",
      "1\n",
      "2\n",
      "2\n",
      "1\n",
      "1\n",
      "toa do diem I 2.0 2.0\n"
     ]
    }
   ],
   "source": [
    "#cho 3 điểm có 3 điểm A,B,C bất kì theo thứ tự đã cho. Tìm điểm D sao cho ABCD là hình bình hành\\\n",
    "\n",
    "xA = int(input())\n",
    "yA = int(input())\n",
    "xB = int(input())\n",
    "yB = int(input())\n",
    "xC = int(input())\n",
    "yC = int(input())\n",
    "xI = (xA+xB)/2\n",
    "yI = (yA+yB)/2\n",
    "xD = xI *2 - xC\n",
    "yD = yI *2 - yC\n",
    "print('toa do diem I', xD, yD)"
   ]
  },
  {
   "cell_type": "code",
   "execution_count": null,
   "id": "9e5e5d59",
   "metadata": {},
   "outputs": [],
   "source": []
  }
 ],
 "metadata": {
  "kernelspec": {
   "display_name": "Python 3 (ipykernel)",
   "language": "python",
   "name": "python3"
  },
  "language_info": {
   "codemirror_mode": {
    "name": "ipython",
    "version": 3
   },
   "file_extension": ".py",
   "mimetype": "text/x-python",
   "name": "python",
   "nbconvert_exporter": "python",
   "pygments_lexer": "ipython3",
   "version": "3.10.9"
  }
 },
 "nbformat": 4,
 "nbformat_minor": 5
}
