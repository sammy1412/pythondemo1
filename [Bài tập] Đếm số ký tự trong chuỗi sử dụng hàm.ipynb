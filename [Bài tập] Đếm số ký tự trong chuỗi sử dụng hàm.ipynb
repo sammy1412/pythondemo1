{
 "cells": [
  {
   "cell_type": "code",
   "execution_count": 3,
   "id": "1b84e50c",
   "metadata": {},
   "outputs": [
    {
     "name": "stdout",
     "output_type": "stream",
     "text": [
      "Nhập chuỗi kí tự cần đếm: 123\n",
      "chuỗi vừa nhập dài 3 chữ\n"
     ]
    }
   ],
   "source": [
    "def count_char(str):\n",
    "    result = 0\n",
    "    for char in str:\n",
    "        result +=1\n",
    "    return result\n",
    "\n",
    "str = input('Nhập chuỗi kí tự cần đếm: ')\n",
    "print('chuỗi vừa nhập dài' ,count_char(str),'chữ')"
   ]
  },
  {
   "cell_type": "code",
   "execution_count": null,
   "id": "ac9b55a9",
   "metadata": {},
   "outputs": [],
   "source": []
  }
 ],
 "metadata": {
  "kernelspec": {
   "display_name": "Python 3 (ipykernel)",
   "language": "python",
   "name": "python3"
  },
  "language_info": {
   "codemirror_mode": {
    "name": "ipython",
    "version": 3
   },
   "file_extension": ".py",
   "mimetype": "text/x-python",
   "name": "python",
   "nbconvert_exporter": "python",
   "pygments_lexer": "ipython3",
   "version": "3.10.9"
  }
 },
 "nbformat": 4,
 "nbformat_minor": 5
}
