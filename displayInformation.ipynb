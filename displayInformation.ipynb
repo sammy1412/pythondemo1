{
 "cells": [
  {
   "cell_type": "code",
   "execution_count": 1,
   "id": "8097d3fc",
   "metadata": {},
   "outputs": [
    {
     "name": "stdout",
     "output_type": "stream",
     "text": [
      "Tên: Bùi Diễm Quỳnh Anh\n",
      "Ngày sinh: 14/12/1997\n",
      "Địa chỉ: 129/14/12, đường số 2, phường 16, quận Gò Vấp, TpHCM\n",
      "Mục đích học: định hướng BA\n"
     ]
    }
   ],
   "source": [
    "print('Tên: Bùi Diễm Quỳnh Anh')\n",
    "print('Ngày sinh: 14/12/1997')\n",
    "print('Địa chỉ: 129/14/12, đường số 2, phường 16, quận Gò Vấp, TpHCM')\n",
    "print('Mục đích học: định hướng BA')"
   ]
  }
 ],
 "metadata": {
  "kernelspec": {
   "display_name": "Python 3 (ipykernel)",
   "language": "python",
   "name": "python3"
  },
  "language_info": {
   "codemirror_mode": {
    "name": "ipython",
    "version": 3
   },
   "file_extension": ".py",
   "mimetype": "text/x-python",
   "name": "python",
   "nbconvert_exporter": "python",
   "pygments_lexer": "ipython3",
   "version": "3.10.9"
  }
 },
 "nbformat": 4,
 "nbformat_minor": 5
}
