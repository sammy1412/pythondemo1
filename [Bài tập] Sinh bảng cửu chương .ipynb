{
 "cells": [
  {
   "cell_type": "code",
   "execution_count": 1,
   "id": "15902c4a",
   "metadata": {},
   "outputs": [
    {
     "name": "stdout",
     "output_type": "stream",
     "text": [
      "tu bang so 1\n",
      "tu bang so 9\n",
      "1 x 1 = 1 \t1 x 2 = 2 \t1 x 3 = 3 \t1 x 4 = 4 \t1 x 5 = 5 \t1 x 6 = 6 \t1 x 7 = 7 \t1 x 8 = 8 \t1 x 9 = 9 \t\n",
      "2 x 1 = 2 \t2 x 2 = 4 \t2 x 3 = 6 \t2 x 4 = 8 \t2 x 5 = 10 \t2 x 6 = 12 \t2 x 7 = 14 \t2 x 8 = 16 \t2 x 9 = 18 \t\n",
      "3 x 1 = 3 \t3 x 2 = 6 \t3 x 3 = 9 \t3 x 4 = 12 \t3 x 5 = 15 \t3 x 6 = 18 \t3 x 7 = 21 \t3 x 8 = 24 \t3 x 9 = 27 \t\n",
      "4 x 1 = 4 \t4 x 2 = 8 \t4 x 3 = 12 \t4 x 4 = 16 \t4 x 5 = 20 \t4 x 6 = 24 \t4 x 7 = 28 \t4 x 8 = 32 \t4 x 9 = 36 \t\n",
      "5 x 1 = 5 \t5 x 2 = 10 \t5 x 3 = 15 \t5 x 4 = 20 \t5 x 5 = 25 \t5 x 6 = 30 \t5 x 7 = 35 \t5 x 8 = 40 \t5 x 9 = 45 \t\n",
      "6 x 1 = 6 \t6 x 2 = 12 \t6 x 3 = 18 \t6 x 4 = 24 \t6 x 5 = 30 \t6 x 6 = 36 \t6 x 7 = 42 \t6 x 8 = 48 \t6 x 9 = 54 \t\n",
      "7 x 1 = 7 \t7 x 2 = 14 \t7 x 3 = 21 \t7 x 4 = 28 \t7 x 5 = 35 \t7 x 6 = 42 \t7 x 7 = 49 \t7 x 8 = 56 \t7 x 9 = 63 \t\n",
      "8 x 1 = 8 \t8 x 2 = 16 \t8 x 3 = 24 \t8 x 4 = 32 \t8 x 5 = 40 \t8 x 6 = 48 \t8 x 7 = 56 \t8 x 8 = 64 \t8 x 9 = 72 \t\n",
      "9 x 1 = 9 \t9 x 2 = 18 \t9 x 3 = 27 \t9 x 4 = 36 \t9 x 5 = 45 \t9 x 6 = 54 \t9 x 7 = 63 \t9 x 8 = 72 \t9 x 9 = 81 \t\n",
      "10 x 1 = 10 \t10 x 2 = 20 \t10 x 3 = 30 \t10 x 4 = 40 \t10 x 5 = 50 \t10 x 6 = 60 \t10 x 7 = 70 \t10 x 8 = 80 \t10 x 9 = 90 \t\n"
     ]
    }
   ],
   "source": [
    "n=int(input('tu bang so '))\n",
    "m=int(input('tu bang so '))\n",
    "\n",
    "dong=1\n",
    "while dong < 11:\n",
    "    cot = n\n",
    "    while cot <=m :\n",
    "        print(f'{dong} x {cot} = {dong*cot}',end =' \\t')\n",
    "        cot+=1\n",
    "    print()\n",
    "    dong +=1"
   ]
  },
  {
   "cell_type": "code",
   "execution_count": null,
   "id": "d9281ea8",
   "metadata": {},
   "outputs": [],
   "source": []
  }
 ],
 "metadata": {
  "kernelspec": {
   "display_name": "Python 3 (ipykernel)",
   "language": "python",
   "name": "python3"
  },
  "language_info": {
   "codemirror_mode": {
    "name": "ipython",
    "version": 3
   },
   "file_extension": ".py",
   "mimetype": "text/x-python",
   "name": "python",
   "nbconvert_exporter": "python",
   "pygments_lexer": "ipython3",
   "version": "3.10.9"
  }
 },
 "nbformat": 4,
 "nbformat_minor": 5
}
