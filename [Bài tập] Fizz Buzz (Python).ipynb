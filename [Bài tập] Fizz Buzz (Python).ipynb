{
 "cells": [
  {
   "cell_type": "code",
   "execution_count": null,
   "id": "681fb8c9",
   "metadata": {},
   "outputs": [],
   "source": [
    "try :\n",
    "    chuoi_nhap = input('nhap hai so cach nhau bang dau phay ')\n",
    "    mang_so = chuoi_nhap.split(\",\")\n",
    "    print(mang_so)\n",
    "    so1= int(mang_so[0].strip())\n",
    "    so2= int(mang_so[1].strip())\n",
    "    if so1>so2:\n",
    "        print('so ket thuc can lon hon so bat dau')\n",
    "    else:\n",
    "        for i in range(so1,so2+1):\n",
    "            if i%3==0 and i%5==0:\n",
    "                print(i,'FizzBuzz')\n",
    "            elif i%3==0 or i%3==0:\n",
    "                print(i,'Fizz')\n",
    "            elif i%5==0 or i%5==0:\n",
    "                print(i,'Buzz')\n",
    "            else:\n",
    "                print(i,\"^^\")\n",
    "except:\n",
    "    print('có lỗi')"
   ]
  }
 ],
 "metadata": {
  "kernelspec": {
   "display_name": "Python 3 (ipykernel)",
   "language": "python",
   "name": "python3"
  },
  "language_info": {
   "codemirror_mode": {
    "name": "ipython",
    "version": 3
   },
   "file_extension": ".py",
   "mimetype": "text/x-python",
   "name": "python",
   "nbconvert_exporter": "python",
   "pygments_lexer": "ipython3",
   "version": "3.10.9"
  }
 },
 "nbformat": 4,
 "nbformat_minor": 5
}
