{
 "cells": [
  {
   "cell_type": "markdown",
   "id": "4f380d7c",
   "metadata": {},
   "source": [
    "**Cach dung jupyter notebook**"
   ]
  },
  {
   "cell_type": "code",
   "execution_count": 12,
   "id": "d8b27493",
   "metadata": {
    "scrolled": true
   },
   "outputs": [
    {
     "name": "stdout",
     "output_type": "stream",
     "text": [
      "hello world\n",
      "hello world\n",
      "hello world\n",
      "hello world,\n",
      "\n",
      "click here to start\n"
     ]
    }
   ],
   "source": [
    "#in dong o man hinh\n",
    "print('hello world')\n",
    "print(\"hello world\")\n",
    "print(\"\"\"hello world\"\"\")\n",
    "print('''hello world,\n",
    "\n",
    "click here to start''')"
   ]
  },
  {
   "cell_type": "code",
   "execution_count": 13,
   "id": "4ecac585",
   "metadata": {},
   "outputs": [
    {
     "name": "stdout",
     "output_type": "stream",
     "text": [
      "10\n"
     ]
    }
   ],
   "source": [
    "a=10\n",
    "print(a)"
   ]
  },
  {
   "cell_type": "code",
   "execution_count": 14,
   "id": "c1f12b5c",
   "metadata": {
    "scrolled": true
   },
   "outputs": [
    {
     "name": "stdout",
     "output_type": "stream",
     "text": [
      "20\n"
     ]
    }
   ],
   "source": [
    "a=a*2\n",
    "print(a)"
   ]
  },
  {
   "cell_type": "markdown",
   "id": "41fc8eba",
   "metadata": {},
   "source": [
    "**cell markdown**"
   ]
  },
  {
   "cell_type": "markdown",
   "id": "d7a139a3",
   "metadata": {},
   "source": [
    "# h1\n",
    "## h2\n",
    "### h3\n",
    "#### h4\n",
    "##### h5\n",
    "###### h6"
   ]
  },
  {
   "cell_type": "markdown",
   "id": "ecbfaf5a",
   "metadata": {},
   "source": [
    "*in nghiêng*\n"
   ]
  },
  {
   "cell_type": "code",
   "execution_count": 18,
   "id": "1e333d18",
   "metadata": {},
   "outputs": [
    {
     "data": {
      "text/plain": [
       "'C:\\\\Users\\\\buidi'"
      ]
     },
     "execution_count": 18,
     "metadata": {},
     "output_type": "execute_result"
    }
   ],
   "source": [
    "pwd\n"
   ]
  },
  {
   "cell_type": "code",
   "execution_count": null,
   "id": "1e979731",
   "metadata": {},
   "outputs": [],
   "source": []
  }
 ],
 "metadata": {
  "kernelspec": {
   "display_name": "Python 3 (ipykernel)",
   "language": "python",
   "name": "python3"
  },
  "language_info": {
   "codemirror_mode": {
    "name": "ipython",
    "version": 3
   },
   "file_extension": ".py",
   "mimetype": "text/x-python",
   "name": "python",
   "nbconvert_exporter": "python",
   "pygments_lexer": "ipython3",
   "version": "3.10.9"
  }
 },
 "nbformat": 4,
 "nbformat_minor": 5
}
