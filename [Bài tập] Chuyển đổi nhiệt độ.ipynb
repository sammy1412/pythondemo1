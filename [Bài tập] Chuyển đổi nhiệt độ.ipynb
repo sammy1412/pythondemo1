{
 "cells": [
  {
   "cell_type": "code",
   "execution_count": 2,
   "id": "64757036",
   "metadata": {},
   "outputs": [
    {
     "name": "stdout",
     "output_type": "stream",
     "text": [
      "Nhập giá trị độ C23\n",
      "Độ F tương ứng của 23 là 73.4\n"
     ]
    }
   ],
   "source": [
    "n =int(input('Nhập giá trị độ C'))\n",
    "print(f'Độ F tương ứng của {n} là {(n*1.8)+32}')"
   ]
  },
  {
   "cell_type": "code",
   "execution_count": null,
   "id": "87eb12eb",
   "metadata": {},
   "outputs": [],
   "source": []
  }
 ],
 "metadata": {
  "kernelspec": {
   "display_name": "Python 3 (ipykernel)",
   "language": "python",
   "name": "python3"
  },
  "language_info": {
   "codemirror_mode": {
    "name": "ipython",
    "version": 3
   },
   "file_extension": ".py",
   "mimetype": "text/x-python",
   "name": "python",
   "nbconvert_exporter": "python",
   "pygments_lexer": "ipython3",
   "version": "3.10.9"
  }
 },
 "nbformat": 4,
 "nbformat_minor": 5
}
