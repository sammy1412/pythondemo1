{
 "cells": [
  {
   "cell_type": "code",
   "execution_count": 4,
   "id": "de9e5823",
   "metadata": {},
   "outputs": [
    {
     "name": "stdout",
     "output_type": "stream",
     "text": [
      "Nhập vào số nguyên bất kì: 57\n",
      "Lẻ\n"
     ]
    }
   ],
   "source": [
    "n =int(input(\"Nhập vào số nguyên bất kì: \"))\n",
    "\n",
    "message = \"Chẵn\" if n % 2 == 0 else \"Lẻ\"\n",
    "print(message)"
   ]
  },
  {
   "cell_type": "code",
   "execution_count": null,
   "id": "23dc04fc",
   "metadata": {},
   "outputs": [],
   "source": []
  }
 ],
 "metadata": {
  "kernelspec": {
   "display_name": "Python 3 (ipykernel)",
   "language": "python",
   "name": "python3"
  },
  "language_info": {
   "codemirror_mode": {
    "name": "ipython",
    "version": 3
   },
   "file_extension": ".py",
   "mimetype": "text/x-python",
   "name": "python",
   "nbconvert_exporter": "python",
   "pygments_lexer": "ipython3",
   "version": "3.10.9"
  }
 },
 "nbformat": 4,
 "nbformat_minor": 5
}
