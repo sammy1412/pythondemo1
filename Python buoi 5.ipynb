{
 "cells": [
  {
   "cell_type": "markdown",
   "id": "17cb0381",
   "metadata": {},
   "source": [
    "print(*object,sep=' ',end='\\n',file=sys.stdout,flush=false)\n",
    "\n",
    "object là các giá trị xuất\n",
    "sep phân cách giữa các giá trị, mặc định là khoảng trắng\n",
    "end kí tự được in ra sau khi các giá trị objects đã in\n",
    "file là đối tượng mà các giá trị object được xuất ra\n",
    "flush tham số quy định cách xuất"
   ]
  },
  {
   "cell_type": "code",
   "execution_count": null,
   "id": "03dc6e3f",
   "metadata": {},
   "outputs": [],
   "source": [
    "file = open ('fdata.txt')"
   ]
  },
  {
   "cell_type": "code",
   "execution_count": null,
   "id": "df724b33",
   "metadata": {},
   "outputs": [],
   "source": [
    "print('c#', 'Python', 'Java',sep = '=====', end=' ')\n",
    "print('second line')\n",
    "file.close()"
   ]
  },
  {
   "cell_type": "code",
   "execution_count": 11,
   "id": "6db98b3b",
   "metadata": {},
   "outputs": [
    {
     "name": "stdout",
     "output_type": "stream",
     "text": [
      "Hà nội, ngày 21 tháng 6 năm 2023\n",
      "Hà nội, ngày 21 tháng 6 năm 2023\n"
     ]
    }
   ],
   "source": [
    "year = 2023\n",
    "month = 6\n",
    "day = 21\n",
    "print('Hà nội, ngày',day,'tháng',month,'năm', year)\n",
    "print('Hà nội, ngày '+ str(day) +' tháng '+ str(month)+' năm '+str(year))\n"
   ]
  },
  {
   "cell_type": "markdown",
   "id": "016d12ed",
   "metadata": {},
   "source": [
    "## in ra với định dạng sử dụng 'str.format()'"
   ]
  },
  {
   "cell_type": "markdown",
   "id": "8597aefe",
   "metadata": {},
   "source": [
    "**index**"
   ]
  },
  {
   "cell_type": "code",
   "execution_count": 15,
   "id": "10c014e3",
   "metadata": {},
   "outputs": [
    {
     "name": "stdout",
     "output_type": "stream",
     "text": [
      "Hà nội, ngày 21 tháng 6 năm 2023\n"
     ]
    }
   ],
   "source": [
    "print('Hà nội, ngày {0} tháng {1} năm {2}'.format(day,month,year))"
   ]
  },
  {
   "cell_type": "code",
   "execution_count": 16,
   "id": "4a1c6ec7",
   "metadata": {},
   "outputs": [
    {
     "name": "stdout",
     "output_type": "stream",
     "text": [
      "Hà nội, ngày 21 tháng 6 năm 2023\n"
     ]
    }
   ],
   "source": [
    "print('Hà nội, ngày {2} tháng {1} năm {0}'.format(year,month,day))"
   ]
  },
  {
   "cell_type": "markdown",
   "id": "49a3f4ac",
   "metadata": {},
   "source": [
    "**key word**"
   ]
  },
  {
   "cell_type": "code",
   "execution_count": 17,
   "id": "7e01a447",
   "metadata": {},
   "outputs": [
    {
     "name": "stdout",
     "output_type": "stream",
     "text": [
      "Hà nội, ngày 21 tháng 6 năm 2023\n"
     ]
    }
   ],
   "source": [
    "print('Hà nội, ngày {day} tháng {month} năm {year}'.format(day=day, month =month, year= year))"
   ]
  },
  {
   "cell_type": "code",
   "execution_count": 18,
   "id": "61d0e28f",
   "metadata": {},
   "outputs": [
    {
     "name": "stdout",
     "output_type": "stream",
     "text": [
      "Hà nội, ngày 21 tháng 6 năm 2023\n"
     ]
    }
   ],
   "source": [
    "print(f'Hà nội, ngày {day} tháng {month} năm {year}' )"
   ]
  },
  {
   "cell_type": "markdown",
   "id": "fbb4b687",
   "metadata": {},
   "source": [
    "**Nhập dữ liệu**"
   ]
  },
  {
   "cell_type": "code",
   "execution_count": 22,
   "id": "a6c37b10",
   "metadata": {},
   "outputs": [
    {
     "name": "stdout",
     "output_type": "stream",
     "text": [
      "Nhập một số tự nhiên: 1\n",
      "số vừa nhập là 11\n",
      "<class 'int'>\n"
     ]
    }
   ],
   "source": [
    "number = int(input('Nhập một số tự nhiên: '))\n",
    "number = number + 10\n",
    "print(f'số vừa nhập là {number}')\n",
    "print(type(number))"
   ]
  },
  {
   "cell_type": "markdown",
   "id": "f0398c53",
   "metadata": {},
   "source": [
    "nhập vào 2 số bất kì . tính tổng hiệu tích thương"
   ]
  },
  {
   "cell_type": "code",
   "execution_count": 25,
   "id": "1050ed7d",
   "metadata": {},
   "outputs": [
    {
     "name": "stdout",
     "output_type": "stream",
     "text": [
      "The history saving thread hit an unexpected error (OperationalError('database or disk is full')).History will not be written to the database.\n",
      "nhập số thứ 1: 5\n",
      "nhập số thứ 2: 3\n",
      "tổng 2 số là 8.0\n",
      "hiệu 2 số là 2.0\n",
      "tích 2 số là 15.0\n",
      "thương 2 số là 1.6666666666666667\n"
     ]
    }
   ],
   "source": [
    "a= float(input('nhập số thứ 1: '))\n",
    "b= float(input('nhập số thứ 2: '))\n",
    "print(f'tổng 2 số là {a+b}')\n",
    "print(f'hiệu 2 số là {a-b}')\n",
    "print(f'tích 2 số là {a*b}')\n",
    "print(f'thương 2 số là {a/b}')\n"
   ]
  },
  {
   "cell_type": "markdown",
   "id": "f3be3981",
   "metadata": {},
   "source": [
    "## String"
   ]
  },
  {
   "cell_type": "code",
   "execution_count": 26,
   "id": "0030765e",
   "metadata": {},
   "outputs": [
    {
     "name": "stdout",
     "output_type": "stream",
     "text": [
      "Python programming\n"
     ]
    }
   ],
   "source": [
    "course = 'Python programming'\n",
    "print(course)"
   ]
  },
  {
   "cell_type": "code",
   "execution_count": 27,
   "id": "99ac9c20",
   "metadata": {},
   "outputs": [
    {
     "name": "stdout",
     "output_type": "stream",
     "text": [
      "Python programming\n"
     ]
    }
   ],
   "source": [
    "course = \"Python programming\"\n",
    "print(course)"
   ]
  },
  {
   "cell_type": "code",
   "execution_count": 30,
   "id": "1f478fd5",
   "metadata": {},
   "outputs": [
    {
     "name": "stdout",
     "output_type": "stream",
     "text": [
      "Python programming\n",
      "click now to start...\n",
      "\n"
     ]
    }
   ],
   "source": [
    "course = '''Python programming\n",
    "click now to start...\n",
    "'''\n",
    "print(course)"
   ]
  },
  {
   "cell_type": "code",
   "execution_count": 31,
   "id": "0e82c6d8",
   "metadata": {},
   "outputs": [
    {
     "name": "stdout",
     "output_type": "stream",
     "text": [
      "Python programming\n",
      "\n",
      "click now to start...\n",
      "\n"
     ]
    }
   ],
   "source": [
    "course = \"\"\"Python programming\n",
    "\n",
    "click now to start...\n",
    "\"\"\"\n",
    "print(course)"
   ]
  },
  {
   "cell_type": "code",
   "execution_count": 37,
   "id": "3329e9af",
   "metadata": {},
   "outputs": [
    {
     "name": "stdout",
     "output_type": "stream",
     "text": [
      "Python programming\n"
     ]
    }
   ],
   "source": [
    "course = 'Python programming'\n",
    "print(course)"
   ]
  },
  {
   "cell_type": "code",
   "execution_count": 43,
   "id": "9d4f44c8",
   "metadata": {},
   "outputs": [
    {
     "name": "stdout",
     "output_type": "stream",
     "text": [
      "P\n",
      "g\n"
     ]
    }
   ],
   "source": [
    "#dùng index\n",
    "print(course[0])\n",
    "print(course[-1])"
   ]
  },
  {
   "cell_type": "code",
   "execution_count": 47,
   "id": "430fdcbc",
   "metadata": {},
   "outputs": [
    {
     "name": "stdout",
     "output_type": "stream",
     "text": [
      "Python\n",
      "Python programming\n",
      "programming\n"
     ]
    }
   ],
   "source": [
    "#dùng slicing\n",
    "print(course[0:6:1])\n",
    "#[số bắt đầu, số kết thúc (kg lấy số cuối), bước nhảy]\n",
    "print(course[:])\n",
    "print(course[7:])"
   ]
  },
  {
   "cell_type": "code",
   "execution_count": 48,
   "id": "635cfcdb",
   "metadata": {},
   "outputs": [
    {
     "ename": "IndexError",
     "evalue": "string index out of range",
     "output_type": "error",
     "traceback": [
      "\u001b[1;31m---------------------------------------------------------------------------\u001b[0m",
      "\u001b[1;31mIndexError\u001b[0m                                Traceback (most recent call last)",
      "Cell \u001b[1;32mIn[48], line 1\u001b[0m\n\u001b[1;32m----> 1\u001b[0m \u001b[38;5;28mprint\u001b[39m(\u001b[43mcourse\u001b[49m\u001b[43m[\u001b[49m\u001b[38;5;241;43m18\u001b[39;49m\u001b[43m]\u001b[49m)\n",
      "\u001b[1;31mIndexError\u001b[0m: string index out of range"
     ]
    }
   ],
   "source": [
    "print(course[18])"
   ]
  },
  {
   "cell_type": "code",
   "execution_count": 51,
   "id": "baba1e48",
   "metadata": {},
   "outputs": [
    {
     "name": "stdout",
     "output_type": "stream",
     "text": [
      "True\n",
      "False\n"
     ]
    }
   ],
   "source": [
    "text = '''Thể loại: Hiện đại đô thị, Huyền Huyễn, Niên hạ, 1×1, Cường x Cường, Kiếp trước kiếp này, Thần tiên ma quái, HE.'''\n",
    "print('Niên hạ'in text)\n",
    "print('Niên hạ'not in text)"
   ]
  },
  {
   "cell_type": "code",
   "execution_count": 54,
   "id": "ac6195c4",
   "metadata": {},
   "outputs": [
    {
     "name": "stdout",
     "output_type": "stream",
     "text": [
      "text chứa 112 kí tự\n"
     ]
    }
   ],
   "source": [
    "print (f'text chứa {len(text)} kí tự')"
   ]
  },
  {
   "cell_type": "code",
   "execution_count": 55,
   "id": "40cb26c0",
   "metadata": {},
   "outputs": [
    {
     "name": "stdout",
     "output_type": "stream",
     "text": [
      "1\n"
     ]
    }
   ],
   "source": [
    "occurence = text.count('Niên hạ')\n",
    "print(occurence)"
   ]
  },
  {
   "cell_type": "code",
   "execution_count": 57,
   "id": "a78213b1",
   "metadata": {},
   "outputs": [
    {
     "name": "stdout",
     "output_type": "stream",
     "text": [
      "THỂ LOẠI: HIỆN ĐẠI ĐÔ THỊ, HUYỀN HUYỄN, NIÊN HẠ, 1×1, CƯỜNG X CƯỜNG, KIẾP TRƯỚC KIẾP NÀY, THẦN TIÊN MA QUÁI, HE.\n",
      "thể loại: hiện đại đô thị, huyền huyễn, niên hạ, 1×1, cường x cường, kiếp trước kiếp này, thần tiên ma quái, he.\n"
     ]
    }
   ],
   "source": [
    "up_text = text.upper()\n",
    "low_text = text.lower()\n",
    "print(up_text)\n",
    "print(low_text)"
   ]
  },
  {
   "cell_type": "code",
   "execution_count": 58,
   "id": "d8f524a4",
   "metadata": {},
   "outputs": [
    {
     "name": "stdout",
     "output_type": "stream",
     "text": [
      "1\n"
     ]
    }
   ],
   "source": [
    "print(text.upper().count('NIÊN HẠ'))"
   ]
  },
  {
   "cell_type": "code",
   "execution_count": 60,
   "id": "bef6bc30",
   "metadata": {},
   "outputs": [
    {
     "name": "stdout",
     "output_type": "stream",
     "text": [
      "'    Python programming      '\n",
      "'Python programming'\n"
     ]
    }
   ],
   "source": [
    "course = \"    Python programming      \"\n",
    "print(repr(course))\n",
    "l_course = course.lstrip().rstrip()\n",
    "print(repr(l_course))"
   ]
  },
  {
   "cell_type": "code",
   "execution_count": 61,
   "id": "6a5014bd",
   "metadata": {},
   "outputs": [
    {
     "name": "stdout",
     "output_type": "stream",
     "text": [
      "32132      \n",
      "'32132      '\n"
     ]
    }
   ],
   "source": [
    "t= input()\n",
    "print(repr(t))"
   ]
  },
  {
   "cell_type": "code",
   "execution_count": 62,
   "id": "88a8eab3",
   "metadata": {},
   "outputs": [
    {
     "name": "stdout",
     "output_type": "stream",
     "text": [
      "['Python', 'programming']\n"
     ]
    }
   ],
   "source": [
    "course = \"Python programming\"\n",
    "words = course.split(' ') #chia cách bằng khoảng trắng**\n",
    "print(words)"
   ]
  },
  {
   "cell_type": "markdown",
   "id": "1741d5ad",
   "metadata": {},
   "source": [
    "**bài tập \n",
    "nhập một chuỗi bất kì kiểm tra có nguyen am kg\n",
    "co bao nhieu nguyen am , ky tu , so"
   ]
  },
  {
   "cell_type": "code",
   "execution_count": 77,
   "id": "191a0856",
   "metadata": {},
   "outputs": [
    {
     "name": "stdout",
     "output_type": "stream",
     "text": [
      "yuir\n",
      "False\n",
      "True\n",
      "True\n",
      "False\n",
      "False\n",
      "0\n",
      "1\n",
      "0\n",
      "0\n",
      "1\n",
      "text gồm 4 kí tự\n"
     ]
    }
   ],
   "source": [
    "t= input()\n",
    "print('a'in t)\n",
    "print('i'in t)\n",
    "print('u'in t)\n",
    "print('o'in t)\n",
    "print('e'in t)\n",
    "\n",
    "print(t.count('a'))\n",
    "print(t.count('i'))\n",
    "print(t.count('e'))\n",
    "print(t.count('o'))\n",
    "print(t.count('u'))\n",
    "\n",
    "print(f'text gồm {len(t)} kí tự')"
   ]
  },
  {
   "cell_type": "code",
   "execution_count": 78,
   "id": "138ebe43",
   "metadata": {},
   "outputs": [
    {
     "name": "stdout",
     "output_type": "stream",
     "text": [
      "rtyukjnhhbnm\n",
      "True\n"
     ]
    }
   ],
   "source": [
    "text= input()\n",
    "answer = 'u' in text or 'e' in text or 'a' in text or 'o' in text or 'i' in text\n",
    "print(answer)"
   ]
  },
  {
   "cell_type": "code",
   "execution_count": 81,
   "id": "db1b3ad3",
   "metadata": {},
   "outputs": [
    {
     "name": "stdout",
     "output_type": "stream",
     "text": [
      "1\n"
     ]
    }
   ],
   "source": [
    "a= text.count('a')\n",
    "i= text.count('i')\n",
    "e= text.count('e')\n",
    "u= text.count('u')\n",
    "o= text.count('o')\n",
    "\n",
    "sum= a+i+e+u+o\n",
    "print(sum)"
   ]
  },
  {
   "cell_type": "code",
   "execution_count": null,
   "id": "8f1de78a",
   "metadata": {},
   "outputs": [],
   "source": []
  }
 ],
 "metadata": {
  "kernelspec": {
   "display_name": "Python 3 (ipykernel)",
   "language": "python",
   "name": "python3"
  },
  "language_info": {
   "codemirror_mode": {
    "name": "ipython",
    "version": 3
   },
   "file_extension": ".py",
   "mimetype": "text/x-python",
   "name": "python",
   "nbconvert_exporter": "python",
   "pygments_lexer": "ipython3",
   "version": "3.10.9"
  }
 },
 "nbformat": 4,
 "nbformat_minor": 5
}
