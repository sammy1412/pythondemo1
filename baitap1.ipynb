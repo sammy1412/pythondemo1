{
 "cells": [
  {
   "cell_type": "code",
   "execution_count": 1,
   "id": "c512de3f",
   "metadata": {},
   "outputs": [
    {
     "name": "stdout",
     "output_type": "stream",
     "text": [
      "6\n",
      "6\n",
      "6\n",
      "day la tam giac deu\n"
     ]
    }
   ],
   "source": [
    "a = int(input())\n",
    "b = int(input())\n",
    "c = int(input())\n",
    "if a+b>c and a+c>b and b+c>a:\n",
    "    if a==b and b==c and c==a:\n",
    "        print('day la tam giac deu')\n",
    "    elif a==b or b==c or a==c :\n",
    "        print('day la tam giac can')\n",
    "    elif a*a==b*b+c*c or b*b==a*a+c*c or c*c==b*b+a*a:\n",
    "        print('day la tam giac vuong')\n",
    "    else: \n",
    "        print('day la tam giac binh thuong')\n",
    "else:\n",
    "    print('day khong phai tam giac')"
   ]
  },
  {
   "cell_type": "code",
   "execution_count": null,
   "id": "31b62c95",
   "metadata": {},
   "outputs": [],
   "source": []
  }
 ],
 "metadata": {
  "kernelspec": {
   "display_name": "Python 3 (ipykernel)",
   "language": "python",
   "name": "python3"
  },
  "language_info": {
   "codemirror_mode": {
    "name": "ipython",
    "version": 3
   },
   "file_extension": ".py",
   "mimetype": "text/x-python",
   "name": "python",
   "nbconvert_exporter": "python",
   "pygments_lexer": "ipython3",
   "version": "3.10.9"
  }
 },
 "nbformat": 4,
 "nbformat_minor": 5
}
