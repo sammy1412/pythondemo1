{
 "cells": [
  {
   "cell_type": "markdown",
   "id": "0cec9245",
   "metadata": {},
   "source": [
    "# TRÁO GIÁ TRỊ"
   ]
  },
  {
   "cell_type": "code",
   "execution_count": 3,
   "id": "e548b398",
   "metadata": {},
   "outputs": [
    {
     "name": "stdout",
     "output_type": "stream",
     "text": [
      "number1 = 10, number2 =15\n"
     ]
    }
   ],
   "source": [
    "number1 = 10\n",
    "number2 = 15\n",
    "print(f'number1 = {number1}, number2 ={number2}')"
   ]
  },
  {
   "cell_type": "markdown",
   "id": "4bdccd84",
   "metadata": {},
   "source": [
    "buoc 1"
   ]
  },
  {
   "cell_type": "code",
   "execution_count": 4,
   "id": "8e21989a",
   "metadata": {},
   "outputs": [],
   "source": [
    "number3 = number1"
   ]
  },
  {
   "cell_type": "markdown",
   "id": "e44c35e5",
   "metadata": {},
   "source": [
    "buoc 2"
   ]
  },
  {
   "cell_type": "code",
   "execution_count": 18,
   "id": "81a9b271",
   "metadata": {},
   "outputs": [],
   "source": [
    "number1= number2"
   ]
  },
  {
   "cell_type": "markdown",
   "id": "7da42f09",
   "metadata": {},
   "source": [
    "buoc 3"
   ]
  },
  {
   "cell_type": "code",
   "execution_count": 19,
   "id": "71c3c859",
   "metadata": {
    "scrolled": true
   },
   "outputs": [
    {
     "name": "stdout",
     "output_type": "stream",
     "text": [
      "number1 = 10, number2 =10\n"
     ]
    }
   ],
   "source": [
    "number2=number3\n",
    "print(f'number1 = {number1}, number2 ={number2}')"
   ]
  },
  {
   "cell_type": "markdown",
   "id": "75427089",
   "metadata": {},
   "source": [
    "**dùng lưu đồ biểu diễn thuật toán tính chu vi, diện tích tam giác với 3 cạnh a b c nhập từ người dùng**"
   ]
  },
  {
   "cell_type": "markdown",
   "id": "6cd740d2",
   "metadata": {},
   "source": [
    "**dùng lưu đồ biểu diễn thuật toán tính chu vi, diện tích tam giác với 3 cạnh a b c nhập từ người dùng**"
   ]
  },
  {
   "cell_type": "markdown",
   "id": "c06daef3",
   "metadata": {},
   "source": [
    "i = 0\n",
    "while (i<10): \n",
    "    print('scooby',end='')\n",
    "i=i+1\n",
    "end "
   ]
  },
  {
   "cell_type": "code",
   "execution_count": 23,
   "id": "3e54e163",
   "metadata": {},
   "outputs": [
    {
     "name": "stdout",
     "output_type": "stream",
     "text": [
      "0 2 4 6 8 10 12 14 16 18 20 22 24 26 28 30 32 34 36 38 40 42 44 46 48 50 52 54 56 58 60 62 64 66 68 70 72 74 76 78 80 82 84 86 88 90 92 94 96 98 "
     ]
    }
   ],
   "source": [
    "\n",
    "for num in range(0,100):\n",
    "      \n",
    "    if num % 2 == 0:\n",
    "        print(num, end = \" \")"
   ]
  },
  {
   "cell_type": "code",
   "execution_count": null,
   "id": "cf80bdf0",
   "metadata": {},
   "outputs": [],
   "source": []
  }
 ],
 "metadata": {
  "kernelspec": {
   "display_name": "Python 3 (ipykernel)",
   "language": "python",
   "name": "python3"
  },
  "language_info": {
   "codemirror_mode": {
    "name": "ipython",
    "version": 3
   },
   "file_extension": ".py",
   "mimetype": "text/x-python",
   "name": "python",
   "nbconvert_exporter": "python",
   "pygments_lexer": "ipython3",
   "version": "3.10.9"
  }
 },
 "nbformat": 4,
 "nbformat_minor": 5
}
