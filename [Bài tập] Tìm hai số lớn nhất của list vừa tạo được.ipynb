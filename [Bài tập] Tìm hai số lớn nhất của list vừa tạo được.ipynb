{
 "cells": [
  {
   "cell_type": "code",
   "execution_count": 15,
   "id": "26f64a84",
   "metadata": {},
   "outputs": [
    {
     "name": "stdout",
     "output_type": "stream",
     "text": [
      "[1, 2.34, 56, 65, 342, 7345]\n",
      "hai số lớn nhất là: [342, 7345]\n",
      "[7345, 342, 65, 56, 2.34, 1]\n",
      "hai số lớn nhất là: [7345, 342]\n"
     ]
    }
   ],
   "source": [
    "numbers = [2.34,56,65,7345,342,1]\n",
    "\n",
    "numbers.sort()\n",
    "print(numbers)\n",
    "print('hai số lớn nhất là:',numbers[-2:])\n",
    "\n",
    "numbers.sort(reverse=True)\n",
    "print(numbers)\n",
    "print('hai số lớn nhất là:',numbers[0:2])"
   ]
  },
  {
   "cell_type": "code",
   "execution_count": null,
   "id": "b1a56098",
   "metadata": {},
   "outputs": [],
   "source": []
  }
 ],
 "metadata": {
  "kernelspec": {
   "display_name": "Python 3 (ipykernel)",
   "language": "python",
   "name": "python3"
  },
  "language_info": {
   "codemirror_mode": {
    "name": "ipython",
    "version": 3
   },
   "file_extension": ".py",
   "mimetype": "text/x-python",
   "name": "python",
   "nbconvert_exporter": "python",
   "pygments_lexer": "ipython3",
   "version": "3.10.9"
  }
 },
 "nbformat": 4,
 "nbformat_minor": 5
}
