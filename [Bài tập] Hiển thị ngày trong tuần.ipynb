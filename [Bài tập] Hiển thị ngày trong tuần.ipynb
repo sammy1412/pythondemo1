{
 "cells": [
  {
   "cell_type": "code",
   "execution_count": 3,
   "id": "c4afaab6",
   "metadata": {},
   "outputs": [
    {
     "name": "stdout",
     "output_type": "stream",
     "text": [
      "Nhập số từ 1-7: 5\n",
      "Đây là thứ Sáu\n"
     ]
    }
   ],
   "source": [
    "day = int(input('Nhập số từ 1-7: '))\n",
    "\n",
    "if day == 1:\n",
    "    print('Đây là thứ Hai')\n",
    "elif day == 2:\n",
    "    print('Đây là thứ Ba')\n",
    "elif day == 3:\n",
    "    print('Đây là thứ Tư')\n",
    "elif day == 4:\n",
    "    print('Đây là thứ Năm')\n",
    "elif day == 5:\n",
    "    print('Đây là thứ Sáu')\n",
    "elif day ==6:\n",
    "    print('Đây là thứ Bảy')\n",
    "elif day ==7:\n",
    "    print('Đây là Chủ Nhật')\n",
    "else:\n",
    "    print('ERROR')\n"
   ]
  },
  {
   "cell_type": "code",
   "execution_count": null,
   "id": "3f1756a8",
   "metadata": {},
   "outputs": [],
   "source": []
  }
 ],
 "metadata": {
  "kernelspec": {
   "display_name": "Python 3 (ipykernel)",
   "language": "python",
   "name": "python3"
  },
  "language_info": {
   "codemirror_mode": {
    "name": "ipython",
    "version": 3
   },
   "file_extension": ".py",
   "mimetype": "text/x-python",
   "name": "python",
   "nbconvert_exporter": "python",
   "pygments_lexer": "ipython3",
   "version": "3.10.9"
  }
 },
 "nbformat": 4,
 "nbformat_minor": 5
}
