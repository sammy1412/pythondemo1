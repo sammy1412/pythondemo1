{
 "cells": [
  {
   "cell_type": "code",
   "execution_count": 4,
   "id": "4ad7ee41",
   "metadata": {},
   "outputs": [
    {
     "name": "stdout",
     "output_type": "stream",
     "text": [
      "Nhap so tien can thanh toan 15\n",
      "can tra:  15\n"
     ]
    }
   ],
   "source": [
    "try:\n",
    "    so_tien_thanh_toan= int(input('Nhap so tien can thanh toan '))\n",
    "    giam_gia = 0\n",
    "    if so_tien_thanh_toan >=150:\n",
    "        giam_gia = 50\n",
    "    elif so_tien_thanh_toan >=100:\n",
    "        giam_gia = 25\n",
    "    elif so_tien_thanh_toan >=75:\n",
    "        giam_gia = 15\n",
    "    print('can tra: ', so_tien_thanh_toan - giam_gia)\n",
    "    \n",
    "except:\n",
    "    print('Khong hop le')"
   ]
  },
  {
   "cell_type": "code",
   "execution_count": null,
   "id": "88605803",
   "metadata": {},
   "outputs": [],
   "source": []
  }
 ],
 "metadata": {
  "kernelspec": {
   "display_name": "Python 3 (ipykernel)",
   "language": "python",
   "name": "python3"
  },
  "language_info": {
   "codemirror_mode": {
    "name": "ipython",
    "version": 3
   },
   "file_extension": ".py",
   "mimetype": "text/x-python",
   "name": "python",
   "nbconvert_exporter": "python",
   "pygments_lexer": "ipython3",
   "version": "3.10.9"
  }
 },
 "nbformat": 4,
 "nbformat_minor": 5
}
